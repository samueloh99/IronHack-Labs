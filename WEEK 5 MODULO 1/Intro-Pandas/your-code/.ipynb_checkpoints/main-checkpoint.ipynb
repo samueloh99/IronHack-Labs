{
 "cells": [
  {
   "cell_type": "markdown",
   "metadata": {
    "colab_type": "text",
    "id": "YE3unUd1OcTs"
   },
   "source": [
    "![Ironhack logo](https://i.imgur.com/1QgrNNw.png)\n",
    "\n",
    "# Lab | Introduction to Pandas\n",
    "\n",
    "## Introduction\n",
    "\n",
    "In the Introduction to Pandas lesson, we learned about the two main data structures in Pandas (Series and DataFrames), how to work with them, how to obtain them from other data structures, and how to perform basic calculations with them.\n",
    "\n",
    "The goal of this lab is to help you practice the concepts you learned in the lesson and provide you with some hands-on experience working with Pandas.\n",
    "\n",
    "## Getting Started\n",
    "\n",
    "Read the instructions for each cell and provide your answers. Make sure to test your answers in each cell and save. Jupyter Notebook should automatically save your work progress. But it's a good idea to periodically save your work manually just in case.\n",
    "\n",
    "## Resources\n",
    "\n",
    "- [Pandas Documentation](https://pandas.pydata.org/pandas-docs/stable/)\n",
    "- [Intro to Pandas Data Structures](https://pandas.pydata.org/pandas-docs/stable/dsintro.html)\n",
    "- [Descriptive Statistics for Pandas DataFrame](https://chrisalbon.com/python/data_wrangling/pandas_dataframe_descriptive_stats/)"
   ]
  },
  {
   "cell_type": "markdown",
   "metadata": {
    "colab_type": "text",
    "id": "yjGkOvNMOajh"
   },
   "source": [
    "# Introduction to Pandas\n",
    "\n",
    "Complete the following set of exercises to solidify your knowledge of Pandas fundamentals."
   ]
  },
  {
   "cell_type": "markdown",
   "metadata": {
    "colab_type": "text",
    "id": "wBPxNR9QOajj"
   },
   "source": [
    "#### 1. Import Numpy and Pandas and alias them to `np` and `pd` respectively."
   ]
  },
  {
   "cell_type": "code",
   "execution_count": 2,
   "metadata": {
    "ExecuteTime": {
     "end_time": "2020-12-08T03:07:21.999539Z",
     "start_time": "2020-12-08T03:07:21.996296Z"
    },
    "colab": {},
    "colab_type": "code",
    "id": "iH3FotJGOajk"
   },
   "outputs": [],
   "source": [
    "# your code here\n",
    "import pandas as pd\n",
    "import numpy as np"
   ]
  },
  {
   "cell_type": "markdown",
   "metadata": {
    "colab_type": "text",
    "id": "Lx1LrDcHOajp"
   },
   "source": [
    "#### 2. Create a Pandas Series containing the elements of the list below.\n",
    "\n",
    "Expected output:\n",
    "\n",
    "````python\n",
    "            0     5.7\n",
    "            1    75.2\n",
    "            2    74.4\n",
    "            3    84.0\n",
    "            4    66.5\n",
    "            5    66.3\n",
    "            6    55.8\n",
    "            7    75.7\n",
    "            8    29.1\n",
    "            9    43.7\n",
    "            dtype: float64\n",
    "    \n",
    "````"
   ]
  },
  {
   "cell_type": "code",
   "execution_count": 3,
   "metadata": {
    "ExecuteTime": {
     "end_time": "2020-12-08T03:07:26.084423Z",
     "start_time": "2020-12-08T03:07:26.080987Z"
    },
    "colab": {},
    "colab_type": "code",
    "id": "bx1BubQVOajq"
   },
   "outputs": [],
   "source": [
    "lst = [5.7, 75.2, 74.4, 84.0, 66.5, 66.3, 55.8, 75.7, 29.1, 43.7]"
   ]
  },
  {
   "cell_type": "code",
   "execution_count": 5,
   "metadata": {
    "ExecuteTime": {
     "end_time": "2020-12-08T03:08:18.597757Z",
     "start_time": "2020-12-08T03:08:18.592423Z"
    },
    "colab": {},
    "colab_type": "code",
    "id": "jDIb1LZDOaju"
   },
   "outputs": [
    {
     "data": {
      "text/plain": [
       "0     5.7\n",
       "1    75.2\n",
       "2    74.4\n",
       "3    84.0\n",
       "4    66.5\n",
       "5    66.3\n",
       "6    55.8\n",
       "7    75.7\n",
       "8    29.1\n",
       "9    43.7\n",
       "dtype: float64"
      ]
     },
     "execution_count": 5,
     "metadata": {},
     "output_type": "execute_result"
    }
   ],
   "source": [
    "# your code here\n",
    "df = pd.Series(lst)\n",
    "df"
   ]
  },
  {
   "cell_type": "code",
   "execution_count": 7,
   "metadata": {
    "ExecuteTime": {
     "end_time": "2020-12-08T03:08:42.649357Z",
     "start_time": "2020-12-08T03:08:42.644287Z"
    }
   },
   "outputs": [
    {
     "data": {
      "text/plain": [
       "pandas.core.series.Series"
      ]
     },
     "execution_count": 7,
     "metadata": {},
     "output_type": "execute_result"
    }
   ],
   "source": [
    "type(df)"
   ]
  },
  {
   "cell_type": "markdown",
   "metadata": {
    "colab_type": "text",
    "id": "D5asOdE0Oajy"
   },
   "source": [
    "#### 3. Use indexing to return the third value in the Series above.\n",
    "\n",
    "*Hint: Remember that indexing begins at 0.*"
   ]
  },
  {
   "cell_type": "code",
   "execution_count": 9,
   "metadata": {
    "ExecuteTime": {
     "end_time": "2020-12-08T03:08:54.799114Z",
     "start_time": "2020-12-08T03:08:54.786771Z"
    },
    "colab": {},
    "colab_type": "code",
    "id": "Nd8JObixOajz"
   },
   "outputs": [
    {
     "data": {
      "text/plain": [
       "74.4"
      ]
     },
     "execution_count": 9,
     "metadata": {},
     "output_type": "execute_result"
    }
   ],
   "source": [
    "# your code here\n",
    "df[2]"
   ]
  },
  {
   "cell_type": "markdown",
   "metadata": {
    "colab_type": "text",
    "id": "M06z_OPLOaj3"
   },
   "source": [
    "#### 4. Create a Pandas DataFrame from the list of lists below. Each sublist should be represented as a row.\n",
    "\n",
    "Expected output:\n",
    "\n",
    "|    |    0 |    1 |    2 |    3 |    4 |\n",
    "|---:|-----:|-----:|-----:|-----:|-----:|\n",
    "|  0 | 53.1 | 95   | 67.5 | 35   | 78.4 |\n",
    "|  1 | 61.3 | 40.8 | 30.8 | 37.8 | 87.6 |\n",
    "|  2 | 20.6 | 73.2 | 44.2 | 14.6 | 91.8 |\n",
    "|  3 | 57.4 |  0.1 | 96.1 |  4.2 | 69.5 |\n",
    "|  4 | 83.6 | 20.5 | 85.4 | 22.8 | 35.9 |\n",
    "|  5 | 49   | 69   |  0.1 | 31.8 | 89.1 |\n",
    "|  6 | 23.3 | 40.7 | 95   | 83.8 | 26.9 |\n",
    "|  7 | 27.6 | 26.4 | 53.8 | 88.8 | 68.5 |\n",
    "|  8 | 96.6 | 96.4 | 53.4 | 72.4 | 50.1 |\n",
    "|  9 | 73.7 | 39   | 43.2 | 81.6 | 34.7 |"
   ]
  },
  {
   "cell_type": "code",
   "execution_count": 10,
   "metadata": {
    "ExecuteTime": {
     "end_time": "2020-12-08T03:09:02.653614Z",
     "start_time": "2020-12-08T03:09:02.648470Z"
    },
    "colab": {},
    "colab_type": "code",
    "id": "TJ2X7jXvOaj5"
   },
   "outputs": [],
   "source": [
    "b = [[53.1, 95.0, 67.5, 35.0, 78.4],\n",
    "     [61.3, 40.8, 30.8, 37.8, 87.6],\n",
    "     [20.6, 73.2, 44.2, 14.6, 91.8],\n",
    "     [57.4, 0.1, 96.1, 4.2, 69.5],\n",
    "     [83.6, 20.5, 85.4, 22.8, 35.9],\n",
    "     [49.0, 69.0, 0.1, 31.8, 89.1],\n",
    "     [23.3, 40.7, 95.0, 83.8, 26.9],\n",
    "     [27.6, 26.4, 53.8, 88.8, 68.5],\n",
    "     [96.6, 96.4, 53.4, 72.4, 50.1],\n",
    "     [73.7, 39.0, 43.2, 81.6, 34.7]]"
   ]
  },
  {
   "cell_type": "code",
   "execution_count": 11,
   "metadata": {
    "ExecuteTime": {
     "end_time": "2020-12-08T03:09:13.029030Z",
     "start_time": "2020-12-08T03:09:13.006843Z"
    },
    "colab": {},
    "colab_type": "code",
    "id": "uAjXmK9VOakA"
   },
   "outputs": [
    {
     "data": {
      "text/html": [
       "<div>\n",
       "<style scoped>\n",
       "    .dataframe tbody tr th:only-of-type {\n",
       "        vertical-align: middle;\n",
       "    }\n",
       "\n",
       "    .dataframe tbody tr th {\n",
       "        vertical-align: top;\n",
       "    }\n",
       "\n",
       "    .dataframe thead th {\n",
       "        text-align: right;\n",
       "    }\n",
       "</style>\n",
       "<table border=\"1\" class=\"dataframe\">\n",
       "  <thead>\n",
       "    <tr style=\"text-align: right;\">\n",
       "      <th></th>\n",
       "      <th>0</th>\n",
       "      <th>1</th>\n",
       "      <th>2</th>\n",
       "      <th>3</th>\n",
       "      <th>4</th>\n",
       "    </tr>\n",
       "  </thead>\n",
       "  <tbody>\n",
       "    <tr>\n",
       "      <th>0</th>\n",
       "      <td>53.1</td>\n",
       "      <td>95.0</td>\n",
       "      <td>67.5</td>\n",
       "      <td>35.0</td>\n",
       "      <td>78.4</td>\n",
       "    </tr>\n",
       "    <tr>\n",
       "      <th>1</th>\n",
       "      <td>61.3</td>\n",
       "      <td>40.8</td>\n",
       "      <td>30.8</td>\n",
       "      <td>37.8</td>\n",
       "      <td>87.6</td>\n",
       "    </tr>\n",
       "    <tr>\n",
       "      <th>2</th>\n",
       "      <td>20.6</td>\n",
       "      <td>73.2</td>\n",
       "      <td>44.2</td>\n",
       "      <td>14.6</td>\n",
       "      <td>91.8</td>\n",
       "    </tr>\n",
       "    <tr>\n",
       "      <th>3</th>\n",
       "      <td>57.4</td>\n",
       "      <td>0.1</td>\n",
       "      <td>96.1</td>\n",
       "      <td>4.2</td>\n",
       "      <td>69.5</td>\n",
       "    </tr>\n",
       "    <tr>\n",
       "      <th>4</th>\n",
       "      <td>83.6</td>\n",
       "      <td>20.5</td>\n",
       "      <td>85.4</td>\n",
       "      <td>22.8</td>\n",
       "      <td>35.9</td>\n",
       "    </tr>\n",
       "    <tr>\n",
       "      <th>5</th>\n",
       "      <td>49.0</td>\n",
       "      <td>69.0</td>\n",
       "      <td>0.1</td>\n",
       "      <td>31.8</td>\n",
       "      <td>89.1</td>\n",
       "    </tr>\n",
       "    <tr>\n",
       "      <th>6</th>\n",
       "      <td>23.3</td>\n",
       "      <td>40.7</td>\n",
       "      <td>95.0</td>\n",
       "      <td>83.8</td>\n",
       "      <td>26.9</td>\n",
       "    </tr>\n",
       "    <tr>\n",
       "      <th>7</th>\n",
       "      <td>27.6</td>\n",
       "      <td>26.4</td>\n",
       "      <td>53.8</td>\n",
       "      <td>88.8</td>\n",
       "      <td>68.5</td>\n",
       "    </tr>\n",
       "    <tr>\n",
       "      <th>8</th>\n",
       "      <td>96.6</td>\n",
       "      <td>96.4</td>\n",
       "      <td>53.4</td>\n",
       "      <td>72.4</td>\n",
       "      <td>50.1</td>\n",
       "    </tr>\n",
       "    <tr>\n",
       "      <th>9</th>\n",
       "      <td>73.7</td>\n",
       "      <td>39.0</td>\n",
       "      <td>43.2</td>\n",
       "      <td>81.6</td>\n",
       "      <td>34.7</td>\n",
       "    </tr>\n",
       "  </tbody>\n",
       "</table>\n",
       "</div>"
      ],
      "text/plain": [
       "      0     1     2     3     4\n",
       "0  53.1  95.0  67.5  35.0  78.4\n",
       "1  61.3  40.8  30.8  37.8  87.6\n",
       "2  20.6  73.2  44.2  14.6  91.8\n",
       "3  57.4   0.1  96.1   4.2  69.5\n",
       "4  83.6  20.5  85.4  22.8  35.9\n",
       "5  49.0  69.0   0.1  31.8  89.1\n",
       "6  23.3  40.7  95.0  83.8  26.9\n",
       "7  27.6  26.4  53.8  88.8  68.5\n",
       "8  96.6  96.4  53.4  72.4  50.1\n",
       "9  73.7  39.0  43.2  81.6  34.7"
      ]
     },
     "execution_count": 11,
     "metadata": {},
     "output_type": "execute_result"
    }
   ],
   "source": [
    "# your code here\n",
    "df_b = pd.DataFrame(b)\n",
    "df_b"
   ]
  },
  {
   "cell_type": "markdown",
   "metadata": {
    "colab_type": "text",
    "id": "unMpXDeYOakG"
   },
   "source": [
    "#### 5. Rename the data frame columns based on the names in the list below.\n",
    "\n",
    "Expected output:\n",
    "\n",
    "|    |   Score_1 |   Score_2 |   Score_3 |   Score_4 |   Score_5 |\n",
    "|---:|----------:|----------:|----------:|----------:|----------:|\n",
    "|  0 |      53.1 |      95   |      67.5 |      35   |      78.4 |\n",
    "|  1 |      61.3 |      40.8 |      30.8 |      37.8 |      87.6 |\n",
    "|  2 |      20.6 |      73.2 |      44.2 |      14.6 |      91.8 |\n",
    "|  3 |      57.4 |       0.1 |      96.1 |       4.2 |      69.5 |\n",
    "|  4 |      83.6 |      20.5 |      85.4 |      22.8 |      35.9 |\n",
    "|  5 |      49   |      69   |       0.1 |      31.8 |      89.1 |\n",
    "|  6 |      23.3 |      40.7 |      95   |      83.8 |      26.9 |\n",
    "|  7 |      27.6 |      26.4 |      53.8 |      88.8 |      68.5 |\n",
    "|  8 |      96.6 |      96.4 |      53.4 |      72.4 |      50.1 |\n",
    "|  9 |      73.7 |      39   |      43.2 |      81.6 |      34.7 |"
   ]
  },
  {
   "cell_type": "code",
   "execution_count": 12,
   "metadata": {
    "ExecuteTime": {
     "end_time": "2020-12-08T03:09:23.729857Z",
     "start_time": "2020-12-08T03:09:23.726526Z"
    },
    "colab": {},
    "colab_type": "code",
    "id": "CR6Od3jCOakH"
   },
   "outputs": [],
   "source": [
    "colnames = ['Score_1', 'Score_2', 'Score_3', 'Score_4', 'Score_5']"
   ]
  },
  {
   "cell_type": "code",
   "execution_count": 15,
   "metadata": {
    "ExecuteTime": {
     "end_time": "2020-12-08T03:09:44.515412Z",
     "start_time": "2020-12-08T03:09:44.511844Z"
    },
    "colab": {},
    "colab_type": "code",
    "id": "4IGnjLB_OakL"
   },
   "outputs": [],
   "source": [
    "# your code here\n",
    "df_b.columns = colnames"
   ]
  },
  {
   "cell_type": "code",
   "execution_count": 17,
   "metadata": {
    "ExecuteTime": {
     "end_time": "2020-12-08T03:09:54.084056Z",
     "start_time": "2020-12-08T03:09:54.078986Z"
    }
   },
   "outputs": [
    {
     "data": {
      "text/plain": [
       "Index(['Score_1', 'Score_2', 'Score_3', 'Score_4', 'Score_5'], dtype='object')"
      ]
     },
     "execution_count": 17,
     "metadata": {},
     "output_type": "execute_result"
    }
   ],
   "source": [
    "df_b.columns"
   ]
  },
  {
   "cell_type": "code",
   "execution_count": 18,
   "metadata": {
    "ExecuteTime": {
     "end_time": "2020-12-08T03:10:01.545428Z",
     "start_time": "2020-12-08T03:10:01.529924Z"
    }
   },
   "outputs": [
    {
     "data": {
      "text/html": [
       "<div>\n",
       "<style scoped>\n",
       "    .dataframe tbody tr th:only-of-type {\n",
       "        vertical-align: middle;\n",
       "    }\n",
       "\n",
       "    .dataframe tbody tr th {\n",
       "        vertical-align: top;\n",
       "    }\n",
       "\n",
       "    .dataframe thead th {\n",
       "        text-align: right;\n",
       "    }\n",
       "</style>\n",
       "<table border=\"1\" class=\"dataframe\">\n",
       "  <thead>\n",
       "    <tr style=\"text-align: right;\">\n",
       "      <th></th>\n",
       "      <th>Score_1</th>\n",
       "      <th>Score_2</th>\n",
       "      <th>Score_3</th>\n",
       "      <th>Score_4</th>\n",
       "      <th>Score_5</th>\n",
       "    </tr>\n",
       "  </thead>\n",
       "  <tbody>\n",
       "    <tr>\n",
       "      <th>0</th>\n",
       "      <td>53.1</td>\n",
       "      <td>95.0</td>\n",
       "      <td>67.5</td>\n",
       "      <td>35.0</td>\n",
       "      <td>78.4</td>\n",
       "    </tr>\n",
       "    <tr>\n",
       "      <th>1</th>\n",
       "      <td>61.3</td>\n",
       "      <td>40.8</td>\n",
       "      <td>30.8</td>\n",
       "      <td>37.8</td>\n",
       "      <td>87.6</td>\n",
       "    </tr>\n",
       "    <tr>\n",
       "      <th>2</th>\n",
       "      <td>20.6</td>\n",
       "      <td>73.2</td>\n",
       "      <td>44.2</td>\n",
       "      <td>14.6</td>\n",
       "      <td>91.8</td>\n",
       "    </tr>\n",
       "    <tr>\n",
       "      <th>3</th>\n",
       "      <td>57.4</td>\n",
       "      <td>0.1</td>\n",
       "      <td>96.1</td>\n",
       "      <td>4.2</td>\n",
       "      <td>69.5</td>\n",
       "    </tr>\n",
       "    <tr>\n",
       "      <th>4</th>\n",
       "      <td>83.6</td>\n",
       "      <td>20.5</td>\n",
       "      <td>85.4</td>\n",
       "      <td>22.8</td>\n",
       "      <td>35.9</td>\n",
       "    </tr>\n",
       "    <tr>\n",
       "      <th>5</th>\n",
       "      <td>49.0</td>\n",
       "      <td>69.0</td>\n",
       "      <td>0.1</td>\n",
       "      <td>31.8</td>\n",
       "      <td>89.1</td>\n",
       "    </tr>\n",
       "    <tr>\n",
       "      <th>6</th>\n",
       "      <td>23.3</td>\n",
       "      <td>40.7</td>\n",
       "      <td>95.0</td>\n",
       "      <td>83.8</td>\n",
       "      <td>26.9</td>\n",
       "    </tr>\n",
       "    <tr>\n",
       "      <th>7</th>\n",
       "      <td>27.6</td>\n",
       "      <td>26.4</td>\n",
       "      <td>53.8</td>\n",
       "      <td>88.8</td>\n",
       "      <td>68.5</td>\n",
       "    </tr>\n",
       "    <tr>\n",
       "      <th>8</th>\n",
       "      <td>96.6</td>\n",
       "      <td>96.4</td>\n",
       "      <td>53.4</td>\n",
       "      <td>72.4</td>\n",
       "      <td>50.1</td>\n",
       "    </tr>\n",
       "    <tr>\n",
       "      <th>9</th>\n",
       "      <td>73.7</td>\n",
       "      <td>39.0</td>\n",
       "      <td>43.2</td>\n",
       "      <td>81.6</td>\n",
       "      <td>34.7</td>\n",
       "    </tr>\n",
       "  </tbody>\n",
       "</table>\n",
       "</div>"
      ],
      "text/plain": [
       "   Score_1  Score_2  Score_3  Score_4  Score_5\n",
       "0     53.1     95.0     67.5     35.0     78.4\n",
       "1     61.3     40.8     30.8     37.8     87.6\n",
       "2     20.6     73.2     44.2     14.6     91.8\n",
       "3     57.4      0.1     96.1      4.2     69.5\n",
       "4     83.6     20.5     85.4     22.8     35.9\n",
       "5     49.0     69.0      0.1     31.8     89.1\n",
       "6     23.3     40.7     95.0     83.8     26.9\n",
       "7     27.6     26.4     53.8     88.8     68.5\n",
       "8     96.6     96.4     53.4     72.4     50.1\n",
       "9     73.7     39.0     43.2     81.6     34.7"
      ]
     },
     "execution_count": 18,
     "metadata": {},
     "output_type": "execute_result"
    }
   ],
   "source": [
    "df_b"
   ]
  },
  {
   "cell_type": "markdown",
   "metadata": {
    "colab_type": "text",
    "id": "BSSlC9sHOakQ"
   },
   "source": [
    "#### 6. Create a subset of this data frame that contains only the Score 1, 3, and 5 columns.\n",
    "\n",
    "Expected output:\n",
    "\n",
    "|    |   Score_1 |   Score_3 |   Score_5 |\n",
    "|---:|----------:|----------:|----------:|\n",
    "|  0 |      53.1 |      67.5 |      78.4 |\n",
    "|  1 |      61.3 |      30.8 |      87.6 |\n",
    "|  2 |      20.6 |      44.2 |      91.8 |\n",
    "|  3 |      57.4 |      96.1 |      69.5 |\n",
    "|  4 |      83.6 |      85.4 |      35.9 |\n",
    "|  5 |      49   |       0.1 |      89.1 |\n",
    "|  6 |      23.3 |      95   |      26.9 |\n",
    "|  7 |      27.6 |      53.8 |      68.5 |\n",
    "|  8 |      96.6 |      53.4 |      50.1 |\n",
    "|  9 |      73.7 |      43.2 |      34.7 |"
   ]
  },
  {
   "cell_type": "code",
   "execution_count": 19,
   "metadata": {
    "ExecuteTime": {
     "end_time": "2020-12-08T03:10:14.520747Z",
     "start_time": "2020-12-08T03:10:14.515744Z"
    },
    "colab": {},
    "colab_type": "code",
    "id": "vAyr7_cpOakR"
   },
   "outputs": [],
   "source": [
    "# create a list of variables that we want to consider\n",
    "subset = ['Score_1', 'Score_3', 'Score_5']"
   ]
  },
  {
   "cell_type": "code",
   "execution_count": 21,
   "metadata": {
    "ExecuteTime": {
     "end_time": "2020-12-08T03:10:26.573934Z",
     "start_time": "2020-12-08T03:10:26.562704Z"
    }
   },
   "outputs": [],
   "source": [
    "# slice the df with brackets\n",
    "df_subset = df_b[subset]"
   ]
  },
  {
   "cell_type": "code",
   "execution_count": 22,
   "metadata": {
    "ExecuteTime": {
     "end_time": "2020-12-08T03:10:32.854040Z",
     "start_time": "2020-12-08T03:10:32.838951Z"
    }
   },
   "outputs": [
    {
     "data": {
      "text/html": [
       "<div>\n",
       "<style scoped>\n",
       "    .dataframe tbody tr th:only-of-type {\n",
       "        vertical-align: middle;\n",
       "    }\n",
       "\n",
       "    .dataframe tbody tr th {\n",
       "        vertical-align: top;\n",
       "    }\n",
       "\n",
       "    .dataframe thead th {\n",
       "        text-align: right;\n",
       "    }\n",
       "</style>\n",
       "<table border=\"1\" class=\"dataframe\">\n",
       "  <thead>\n",
       "    <tr style=\"text-align: right;\">\n",
       "      <th></th>\n",
       "      <th>Score_1</th>\n",
       "      <th>Score_3</th>\n",
       "      <th>Score_5</th>\n",
       "    </tr>\n",
       "  </thead>\n",
       "  <tbody>\n",
       "    <tr>\n",
       "      <th>0</th>\n",
       "      <td>53.1</td>\n",
       "      <td>67.5</td>\n",
       "      <td>78.4</td>\n",
       "    </tr>\n",
       "    <tr>\n",
       "      <th>1</th>\n",
       "      <td>61.3</td>\n",
       "      <td>30.8</td>\n",
       "      <td>87.6</td>\n",
       "    </tr>\n",
       "    <tr>\n",
       "      <th>2</th>\n",
       "      <td>20.6</td>\n",
       "      <td>44.2</td>\n",
       "      <td>91.8</td>\n",
       "    </tr>\n",
       "    <tr>\n",
       "      <th>3</th>\n",
       "      <td>57.4</td>\n",
       "      <td>96.1</td>\n",
       "      <td>69.5</td>\n",
       "    </tr>\n",
       "    <tr>\n",
       "      <th>4</th>\n",
       "      <td>83.6</td>\n",
       "      <td>85.4</td>\n",
       "      <td>35.9</td>\n",
       "    </tr>\n",
       "  </tbody>\n",
       "</table>\n",
       "</div>"
      ],
      "text/plain": [
       "   Score_1  Score_3  Score_5\n",
       "0     53.1     67.5     78.4\n",
       "1     61.3     30.8     87.6\n",
       "2     20.6     44.2     91.8\n",
       "3     57.4     96.1     69.5\n",
       "4     83.6     85.4     35.9"
      ]
     },
     "execution_count": 22,
     "metadata": {},
     "output_type": "execute_result"
    }
   ],
   "source": [
    "df_subset.head()"
   ]
  },
  {
   "cell_type": "code",
   "execution_count": 24,
   "metadata": {
    "ExecuteTime": {
     "end_time": "2020-12-08T03:10:46.262203Z",
     "start_time": "2020-12-08T03:10:46.250869Z"
    }
   },
   "outputs": [
    {
     "data": {
      "text/html": [
       "<div>\n",
       "<style scoped>\n",
       "    .dataframe tbody tr th:only-of-type {\n",
       "        vertical-align: middle;\n",
       "    }\n",
       "\n",
       "    .dataframe tbody tr th {\n",
       "        vertical-align: top;\n",
       "    }\n",
       "\n",
       "    .dataframe thead th {\n",
       "        text-align: right;\n",
       "    }\n",
       "</style>\n",
       "<table border=\"1\" class=\"dataframe\">\n",
       "  <thead>\n",
       "    <tr style=\"text-align: right;\">\n",
       "      <th></th>\n",
       "      <th>Score_1</th>\n",
       "      <th>Score_3</th>\n",
       "      <th>Score_5</th>\n",
       "    </tr>\n",
       "  </thead>\n",
       "  <tbody>\n",
       "    <tr>\n",
       "      <th>0</th>\n",
       "      <td>53.1</td>\n",
       "      <td>67.5</td>\n",
       "      <td>78.4</td>\n",
       "    </tr>\n",
       "    <tr>\n",
       "      <th>1</th>\n",
       "      <td>61.3</td>\n",
       "      <td>30.8</td>\n",
       "      <td>87.6</td>\n",
       "    </tr>\n",
       "    <tr>\n",
       "      <th>2</th>\n",
       "      <td>20.6</td>\n",
       "      <td>44.2</td>\n",
       "      <td>91.8</td>\n",
       "    </tr>\n",
       "    <tr>\n",
       "      <th>3</th>\n",
       "      <td>57.4</td>\n",
       "      <td>96.1</td>\n",
       "      <td>69.5</td>\n",
       "    </tr>\n",
       "    <tr>\n",
       "      <th>4</th>\n",
       "      <td>83.6</td>\n",
       "      <td>85.4</td>\n",
       "      <td>35.9</td>\n",
       "    </tr>\n",
       "    <tr>\n",
       "      <th>5</th>\n",
       "      <td>49.0</td>\n",
       "      <td>0.1</td>\n",
       "      <td>89.1</td>\n",
       "    </tr>\n",
       "    <tr>\n",
       "      <th>6</th>\n",
       "      <td>23.3</td>\n",
       "      <td>95.0</td>\n",
       "      <td>26.9</td>\n",
       "    </tr>\n",
       "    <tr>\n",
       "      <th>7</th>\n",
       "      <td>27.6</td>\n",
       "      <td>53.8</td>\n",
       "      <td>68.5</td>\n",
       "    </tr>\n",
       "    <tr>\n",
       "      <th>8</th>\n",
       "      <td>96.6</td>\n",
       "      <td>53.4</td>\n",
       "      <td>50.1</td>\n",
       "    </tr>\n",
       "    <tr>\n",
       "      <th>9</th>\n",
       "      <td>73.7</td>\n",
       "      <td>43.2</td>\n",
       "      <td>34.7</td>\n",
       "    </tr>\n",
       "  </tbody>\n",
       "</table>\n",
       "</div>"
      ],
      "text/plain": [
       "   Score_1  Score_3  Score_5\n",
       "0     53.1     67.5     78.4\n",
       "1     61.3     30.8     87.6\n",
       "2     20.6     44.2     91.8\n",
       "3     57.4     96.1     69.5\n",
       "4     83.6     85.4     35.9\n",
       "5     49.0      0.1     89.1\n",
       "6     23.3     95.0     26.9\n",
       "7     27.6     53.8     68.5\n",
       "8     96.6     53.4     50.1\n",
       "9     73.7     43.2     34.7"
      ]
     },
     "execution_count": 24,
     "metadata": {},
     "output_type": "execute_result"
    }
   ],
   "source": [
    "# Other method\n",
    "df_subset = df_b.iloc[:, [0,2,4]]\n",
    "df_subset"
   ]
  },
  {
   "cell_type": "markdown",
   "metadata": {
    "colab_type": "text",
    "id": "miFKTP45OakV"
   },
   "source": [
    "#### 7. From the original data frame, calculate the average Score_3 value.\n",
    "\n",
    "Expected output:\n",
    "\n",
    "````python\n",
    "            56.95\n",
    "````"
   ]
  },
  {
   "cell_type": "code",
   "execution_count": 26,
   "metadata": {
    "ExecuteTime": {
     "end_time": "2020-12-08T03:10:56.836682Z",
     "start_time": "2020-12-08T03:10:56.831304Z"
    },
    "colab": {},
    "colab_type": "code",
    "id": "MtfW8kfjOakW"
   },
   "outputs": [
    {
     "data": {
      "text/plain": [
       "56.95000000000001"
      ]
     },
     "execution_count": 26,
     "metadata": {},
     "output_type": "execute_result"
    }
   ],
   "source": [
    "# your code here\n",
    "# select the 'Score_3' column and then call the function mean\n",
    "df_b.Score_3.mean()"
   ]
  },
  {
   "cell_type": "markdown",
   "metadata": {
    "colab_type": "text",
    "id": "6_0HFCAMOakb"
   },
   "source": [
    "#### 8. From the original data frame, calculate the maximum Score_4 value.\n",
    "\n",
    "Expected output:\n",
    "\n",
    "````python\n",
    "            88.8\n",
    "````"
   ]
  },
  {
   "cell_type": "code",
   "execution_count": 27,
   "metadata": {
    "ExecuteTime": {
     "end_time": "2020-12-08T03:11:09.638732Z",
     "start_time": "2020-12-08T03:11:09.633369Z"
    },
    "colab": {},
    "colab_type": "code",
    "id": "nafpPRIaOakc"
   },
   "outputs": [
    {
     "data": {
      "text/plain": [
       "88.8"
      ]
     },
     "execution_count": 27,
     "metadata": {},
     "output_type": "execute_result"
    }
   ],
   "source": [
    "# your code here\n",
    "df_b['Score_4'].max()"
   ]
  },
  {
   "cell_type": "markdown",
   "metadata": {
    "colab_type": "text",
    "id": "hEBEuc8NOakg"
   },
   "source": [
    "#### 9. From the original data frame, calculate the median Score 2 value.\n",
    "\n",
    "Expected output:\n",
    "\n",
    "````python\n",
    "            40.75\n",
    "````"
   ]
  },
  {
   "cell_type": "code",
   "execution_count": 28,
   "metadata": {
    "ExecuteTime": {
     "end_time": "2020-12-08T03:11:18.704637Z",
     "start_time": "2020-12-08T03:11:18.691305Z"
    },
    "colab": {},
    "colab_type": "code",
    "id": "zn1IpKxuOakh"
   },
   "outputs": [
    {
     "data": {
      "text/plain": [
       "40.75"
      ]
     },
     "execution_count": 28,
     "metadata": {},
     "output_type": "execute_result"
    }
   ],
   "source": [
    "# your code here\n",
    "# use the same method describe at exercise 8\n",
    "df_b['Score_2'].median()"
   ]
  },
  {
   "cell_type": "markdown",
   "metadata": {
    "colab_type": "text",
    "id": "LxoUIsIBOakl"
   },
   "source": [
    "#### 10. Create a Pandas DataFrame from the dictionary of product orders below.\n",
    "\n",
    "Expected output:\n",
    "\n",
    "|    | Description                       |   Quantity |   UnitPrice |   Revenue |\n",
    "|---:|:----------------------------------|-----------:|------------:|----------:|\n",
    "|  0 | LUNCH BAG APPLE DESIGN            |          1 |        1.65 |      1.65 |\n",
    "|  1 | SET OF 60 VINTAGE LEAF CAKE CASES |         24 |        0.55 |     13.2  |\n",
    "|  2 | RIBBON REEL STRIPES DESIGN        |          1 |        1.65 |      1.65 |\n",
    "|  3 | WORLD WAR 2 GLIDERS ASSTD DESIGNS |       2880 |        0.18 |    518.4  |\n",
    "|  4 | PLAYING CARDS JUBILEE UNION JACK  |          2 |        1.25 |      2.5  |\n",
    "|  5 | POPCORN HOLDER                    |          7 |        0.85 |      5.95 |\n",
    "|  6 | BOX OF VINTAGE ALPHABET BLOCKS    |          1 |       11.95 |     11.95 |\n",
    "|  7 | PARTY BUNTING                     |          4 |        4.95 |     19.8  |\n",
    "|  8 | JAZZ HEARTS ADDRESS BOOK          |         10 |        0.19 |      1.9  |\n",
    "|  9 | SET OF 4 SANTA PLACE SETTINGS     |         48 |        1.25 |     60    |"
   ]
  },
  {
   "cell_type": "code",
   "execution_count": 30,
   "metadata": {
    "ExecuteTime": {
     "end_time": "2020-12-08T03:11:32.890938Z",
     "start_time": "2020-12-08T03:11:32.886559Z"
    },
    "colab": {},
    "colab_type": "code",
    "id": "-w5XVN-aOakl"
   },
   "outputs": [],
   "source": [
    "orders = {'Description': ['LUNCH BAG APPLE DESIGN',\n",
    "  'SET OF 60 VINTAGE LEAF CAKE CASES ',\n",
    "  'RIBBON REEL STRIPES DESIGN ',\n",
    "  'WORLD WAR 2 GLIDERS ASSTD DESIGNS',\n",
    "  'PLAYING CARDS JUBILEE UNION JACK',\n",
    "  'POPCORN HOLDER',\n",
    "  'BOX OF VINTAGE ALPHABET BLOCKS',\n",
    "  'PARTY BUNTING',\n",
    "  'JAZZ HEARTS ADDRESS BOOK',\n",
    "  'SET OF 4 SANTA PLACE SETTINGS'],\n",
    " 'Quantity': [1, 24, 1, 2880, 2, 7, 1, 4, 10, 48],\n",
    " 'UnitPrice': [1.65, 0.55, 1.65, 0.18, 1.25, 0.85, 11.95, 4.95, 0.19, 1.25],\n",
    " 'Revenue': [1.65, 13.2, 1.65, 518.4, 2.5, 5.95, 11.95, 19.8, 1.9, 60.0]}"
   ]
  },
  {
   "cell_type": "code",
   "execution_count": 31,
   "metadata": {
    "ExecuteTime": {
     "end_time": "2020-12-08T03:11:33.126350Z",
     "start_time": "2020-12-08T03:11:33.116584Z"
    },
    "colab": {},
    "colab_type": "code",
    "id": "EBy90Me3Oakp"
   },
   "outputs": [],
   "source": [
    "# your code here\n",
    "df2 = pd.DataFrame(orders)"
   ]
  },
  {
   "cell_type": "code",
   "execution_count": 32,
   "metadata": {
    "ExecuteTime": {
     "end_time": "2020-12-08T03:11:40.872092Z",
     "start_time": "2020-12-08T03:11:40.862490Z"
    }
   },
   "outputs": [
    {
     "data": {
      "text/html": [
       "<div>\n",
       "<style scoped>\n",
       "    .dataframe tbody tr th:only-of-type {\n",
       "        vertical-align: middle;\n",
       "    }\n",
       "\n",
       "    .dataframe tbody tr th {\n",
       "        vertical-align: top;\n",
       "    }\n",
       "\n",
       "    .dataframe thead th {\n",
       "        text-align: right;\n",
       "    }\n",
       "</style>\n",
       "<table border=\"1\" class=\"dataframe\">\n",
       "  <thead>\n",
       "    <tr style=\"text-align: right;\">\n",
       "      <th></th>\n",
       "      <th>Description</th>\n",
       "      <th>Quantity</th>\n",
       "      <th>UnitPrice</th>\n",
       "      <th>Revenue</th>\n",
       "    </tr>\n",
       "  </thead>\n",
       "  <tbody>\n",
       "    <tr>\n",
       "      <th>0</th>\n",
       "      <td>LUNCH BAG APPLE DESIGN</td>\n",
       "      <td>1</td>\n",
       "      <td>1.65</td>\n",
       "      <td>1.65</td>\n",
       "    </tr>\n",
       "    <tr>\n",
       "      <th>1</th>\n",
       "      <td>SET OF 60 VINTAGE LEAF CAKE CASES</td>\n",
       "      <td>24</td>\n",
       "      <td>0.55</td>\n",
       "      <td>13.20</td>\n",
       "    </tr>\n",
       "    <tr>\n",
       "      <th>2</th>\n",
       "      <td>RIBBON REEL STRIPES DESIGN</td>\n",
       "      <td>1</td>\n",
       "      <td>1.65</td>\n",
       "      <td>1.65</td>\n",
       "    </tr>\n",
       "    <tr>\n",
       "      <th>3</th>\n",
       "      <td>WORLD WAR 2 GLIDERS ASSTD DESIGNS</td>\n",
       "      <td>2880</td>\n",
       "      <td>0.18</td>\n",
       "      <td>518.40</td>\n",
       "    </tr>\n",
       "    <tr>\n",
       "      <th>4</th>\n",
       "      <td>PLAYING CARDS JUBILEE UNION JACK</td>\n",
       "      <td>2</td>\n",
       "      <td>1.25</td>\n",
       "      <td>2.50</td>\n",
       "    </tr>\n",
       "  </tbody>\n",
       "</table>\n",
       "</div>"
      ],
      "text/plain": [
       "                          Description  Quantity  UnitPrice  Revenue\n",
       "0              LUNCH BAG APPLE DESIGN         1       1.65     1.65\n",
       "1  SET OF 60 VINTAGE LEAF CAKE CASES         24       0.55    13.20\n",
       "2         RIBBON REEL STRIPES DESIGN          1       1.65     1.65\n",
       "3   WORLD WAR 2 GLIDERS ASSTD DESIGNS      2880       0.18   518.40\n",
       "4    PLAYING CARDS JUBILEE UNION JACK         2       1.25     2.50"
      ]
     },
     "execution_count": 32,
     "metadata": {},
     "output_type": "execute_result"
    }
   ],
   "source": [
    "df2.head()"
   ]
  },
  {
   "cell_type": "markdown",
   "metadata": {
    "colab_type": "text",
    "id": "9ssXX6XPOakt"
   },
   "source": [
    "#### 11. Calculate the total quantity ordered and revenue generated from these orders.\n",
    "\n",
    "Expected output:\n",
    "\n",
    "````python\n",
    "            Quantity    2978.0\n",
    "            Revenue      637.0\n",
    "````"
   ]
  },
  {
   "cell_type": "code",
   "execution_count": 33,
   "metadata": {
    "ExecuteTime": {
     "end_time": "2020-12-08T03:11:53.822152Z",
     "start_time": "2020-12-08T03:11:53.816343Z"
    },
    "colab": {},
    "colab_type": "code",
    "id": "YitrlNafOaku"
   },
   "outputs": [
    {
     "data": {
      "text/plain": [
       "2978"
      ]
     },
     "execution_count": 33,
     "metadata": {},
     "output_type": "execute_result"
    }
   ],
   "source": [
    "# your code here\n",
    "# select the variable 'Quantity' from df2 and call sum() function\n",
    "df2.Quantity.sum()"
   ]
  },
  {
   "cell_type": "code",
   "execution_count": 34,
   "metadata": {
    "ExecuteTime": {
     "end_time": "2020-12-08T03:12:01.511787Z",
     "start_time": "2020-12-08T03:12:01.506325Z"
    }
   },
   "outputs": [
    {
     "data": {
      "text/plain": [
       "637.0"
      ]
     },
     "execution_count": 34,
     "metadata": {},
     "output_type": "execute_result"
    }
   ],
   "source": [
    "# select the variable 'Revenue' from df2 and call max() function\n",
    "df2.Revenue.sum()"
   ]
  },
  {
   "cell_type": "code",
   "execution_count": 35,
   "metadata": {
    "ExecuteTime": {
     "end_time": "2020-12-08T03:12:07.280597Z",
     "start_time": "2020-12-08T03:12:07.263388Z"
    }
   },
   "outputs": [
    {
     "data": {
      "text/plain": [
       "Quantity    2978.0\n",
       "Revenue      637.0\n",
       "dtype: float64"
      ]
     },
     "execution_count": 35,
     "metadata": {},
     "output_type": "execute_result"
    }
   ],
   "source": [
    "# we can also subset the dataframe selecting the variabels 'Quantity' and 'Revenue' at the same time\n",
    "df2[['Quantity', 'Revenue']].sum()"
   ]
  },
  {
   "cell_type": "markdown",
   "metadata": {
    "colab_type": "text",
    "id": "GlSWl9TZOakz"
   },
   "source": [
    "#### 12. Obtain the prices of the most expensive and least expensive items ordered and print the difference.\n",
    "Expected output:\n",
    "\n",
    "````python\n",
    "            Most expensive:  11.95\n",
    "            Least expensive:  0.18\n",
    "            Difference:  11.77\n",
    "````"
   ]
  },
  {
   "cell_type": "code",
   "execution_count": 36,
   "metadata": {
    "ExecuteTime": {
     "end_time": "2020-12-08T03:12:14.221469Z",
     "start_time": "2020-12-08T03:12:14.217838Z"
    },
    "colab": {},
    "colab_type": "code",
    "id": "c1r8EZT6Oak0"
   },
   "outputs": [],
   "source": [
    "# your code here\n",
    "# select the variable 'UnitPrice' from df2 and call max() function\n",
    "expensive = df2.UnitPrice.max()# your code here"
   ]
  },
  {
   "cell_type": "code",
   "execution_count": 37,
   "metadata": {
    "ExecuteTime": {
     "end_time": "2020-12-08T03:12:19.837218Z",
     "start_time": "2020-12-08T03:12:19.821542Z"
    }
   },
   "outputs": [],
   "source": [
    "# select the variable 'UnitPrice' from df2 and call min() function\n",
    "cheap = df2.UnitPrice.min()"
   ]
  },
  {
   "cell_type": "code",
   "execution_count": 38,
   "metadata": {
    "ExecuteTime": {
     "end_time": "2020-12-08T03:12:24.565692Z",
     "start_time": "2020-12-08T03:12:24.562593Z"
    }
   },
   "outputs": [],
   "source": [
    "difference = expensive - cheap"
   ]
  },
  {
   "cell_type": "code",
   "execution_count": 39,
   "metadata": {
    "ExecuteTime": {
     "end_time": "2020-12-08T03:12:30.910790Z",
     "start_time": "2020-12-08T03:12:30.906121Z"
    }
   },
   "outputs": [
    {
     "name": "stdout",
     "output_type": "stream",
     "text": [
      "Most expensive:  11.95\n",
      "Least expensive:  0.18\n",
      "Difference:  11.77\n"
     ]
    }
   ],
   "source": [
    "print('Most expensive: ', df2.UnitPrice.max())\n",
    "print('Least expensive: ', df2.UnitPrice.min())\n",
    "print('Difference: ', difference)"
   ]
  },
  {
   "cell_type": "markdown",
   "metadata": {
    "colab_type": "text",
    "id": "RweZ9QLBOak3"
   },
   "source": [
    "# BONUS"
   ]
  },
  {
   "cell_type": "markdown",
   "metadata": {
    "colab_type": "text",
    "id": "1w9-ZnH6Oak4"
   },
   "source": [
    "#### 1 Create a random dataframe containing 3 columns and 10 rows. \n",
    "\n",
    "*Hint: You'll have to use a `numpy.random` method to create random observations*\n",
    "\n",
    "**Example of output:**\n",
    "\n",
    "|    |         0 |        1 |        2 |\n",
    "|---:|----------:|---------:|---------:|\n",
    "|  0 | 0.0883504 | 0.867054 | 0.977949 |\n",
    "|  1 | 0.819555  | 0.643927 | 0.122975 |\n",
    "|  2 | 0.484618  | 0.515125 | 0.807791 |\n",
    "|  3 | 0.539583  | 0.620799 | 0.926963 |\n",
    "|  4 | 0.0479896 | 0.772282 | 0.621921 |\n",
    "|  5 | 0.1398    | 0.767678 | 0.678816 |\n",
    "|  6 | 0.0895157 | 0.242867 | 0.887941 |\n",
    "|  7 | 0.160186  | 0.750576 | 0.439416 |\n",
    "|  8 | 0.982747  | 0.652903 | 0.575518 |\n",
    "|  9 | 0.646373  | 0.523237 | 0.700222 |"
   ]
  },
  {
   "cell_type": "code",
   "execution_count": 40,
   "metadata": {
    "ExecuteTime": {
     "end_time": "2020-12-08T03:12:38.641696Z",
     "start_time": "2020-12-08T03:12:38.637995Z"
    },
    "colab": {},
    "colab_type": "code",
    "id": "ucxwFx9TOak5"
   },
   "outputs": [],
   "source": [
    "# your code here\n",
    "#the np.random module has several functions to return random arrays explore a little the documentation, the one we are using here np.random.rand\n",
    "#needs the shape of the array to be returned, it returns np.float values.\n",
    "df = pd.DataFrame(np.random.rand(10,3))"
   ]
  },
  {
   "cell_type": "code",
   "execution_count": 41,
   "metadata": {
    "ExecuteTime": {
     "end_time": "2020-12-08T03:12:45.089672Z",
     "start_time": "2020-12-08T03:12:45.077983Z"
    }
   },
   "outputs": [
    {
     "data": {
      "text/html": [
       "<div>\n",
       "<style scoped>\n",
       "    .dataframe tbody tr th:only-of-type {\n",
       "        vertical-align: middle;\n",
       "    }\n",
       "\n",
       "    .dataframe tbody tr th {\n",
       "        vertical-align: top;\n",
       "    }\n",
       "\n",
       "    .dataframe thead th {\n",
       "        text-align: right;\n",
       "    }\n",
       "</style>\n",
       "<table border=\"1\" class=\"dataframe\">\n",
       "  <thead>\n",
       "    <tr style=\"text-align: right;\">\n",
       "      <th></th>\n",
       "      <th>0</th>\n",
       "      <th>1</th>\n",
       "      <th>2</th>\n",
       "    </tr>\n",
       "  </thead>\n",
       "  <tbody>\n",
       "    <tr>\n",
       "      <th>0</th>\n",
       "      <td>0.310616</td>\n",
       "      <td>0.823680</td>\n",
       "      <td>0.199593</td>\n",
       "    </tr>\n",
       "    <tr>\n",
       "      <th>1</th>\n",
       "      <td>0.555599</td>\n",
       "      <td>0.389316</td>\n",
       "      <td>0.840326</td>\n",
       "    </tr>\n",
       "    <tr>\n",
       "      <th>2</th>\n",
       "      <td>0.776561</td>\n",
       "      <td>0.343078</td>\n",
       "      <td>0.636803</td>\n",
       "    </tr>\n",
       "    <tr>\n",
       "      <th>3</th>\n",
       "      <td>0.513450</td>\n",
       "      <td>0.301265</td>\n",
       "      <td>0.214990</td>\n",
       "    </tr>\n",
       "    <tr>\n",
       "      <th>4</th>\n",
       "      <td>0.532726</td>\n",
       "      <td>0.806149</td>\n",
       "      <td>0.190645</td>\n",
       "    </tr>\n",
       "    <tr>\n",
       "      <th>5</th>\n",
       "      <td>0.165509</td>\n",
       "      <td>0.708240</td>\n",
       "      <td>0.483126</td>\n",
       "    </tr>\n",
       "    <tr>\n",
       "      <th>6</th>\n",
       "      <td>0.263596</td>\n",
       "      <td>0.925099</td>\n",
       "      <td>0.242196</td>\n",
       "    </tr>\n",
       "    <tr>\n",
       "      <th>7</th>\n",
       "      <td>0.817903</td>\n",
       "      <td>0.435054</td>\n",
       "      <td>0.130437</td>\n",
       "    </tr>\n",
       "    <tr>\n",
       "      <th>8</th>\n",
       "      <td>0.239605</td>\n",
       "      <td>0.785166</td>\n",
       "      <td>0.723999</td>\n",
       "    </tr>\n",
       "    <tr>\n",
       "      <th>9</th>\n",
       "      <td>0.288500</td>\n",
       "      <td>0.208922</td>\n",
       "      <td>0.565811</td>\n",
       "    </tr>\n",
       "  </tbody>\n",
       "</table>\n",
       "</div>"
      ],
      "text/plain": [
       "          0         1         2\n",
       "0  0.310616  0.823680  0.199593\n",
       "1  0.555599  0.389316  0.840326\n",
       "2  0.776561  0.343078  0.636803\n",
       "3  0.513450  0.301265  0.214990\n",
       "4  0.532726  0.806149  0.190645\n",
       "5  0.165509  0.708240  0.483126\n",
       "6  0.263596  0.925099  0.242196\n",
       "7  0.817903  0.435054  0.130437\n",
       "8  0.239605  0.785166  0.723999\n",
       "9  0.288500  0.208922  0.565811"
      ]
     },
     "execution_count": 41,
     "metadata": {},
     "output_type": "execute_result"
    }
   ],
   "source": [
    "df"
   ]
  },
  {
   "cell_type": "markdown",
   "metadata": {
    "colab_type": "text",
    "id": "clFAoNoYOak8"
   },
   "source": [
    "#### 2 Create a random dataframe containing 3 columns and 10 rows with specific column names. \n",
    "\n",
    "Use `['column1', 'column2', 'column3']` as the column names.\n",
    "\n",
    "**Example of output:**\n",
    "\n",
    "|    |   column1 |   column2 |   column3 |\n",
    "|---:|----------:|----------:|----------:|\n",
    "|  0 |        10 |        21 |        45 |\n",
    "|  1 |        32 |        87 |        39 |\n",
    "|  2 |        93 |        53 |         8 |\n",
    "|  3 |        52 |        77 |        41 |\n",
    "|  4 |        72 |        50 |        31 |\n",
    "|  5 |        16 |         6 |        41 |\n",
    "|  6 |        66 |        33 |        62 |\n",
    "|  7 |        97 |        50 |        92 |\n",
    "|  8 |        21 |        71 |        42 |\n",
    "|  9 |        91 |        97 |        32 |"
   ]
  },
  {
   "cell_type": "code",
   "execution_count": 42,
   "metadata": {
    "ExecuteTime": {
     "end_time": "2020-12-08T03:12:53.477589Z",
     "start_time": "2020-12-08T03:12:53.465914Z"
    },
    "colab": {},
    "colab_type": "code",
    "id": "4VaCdj95Oak9"
   },
   "outputs": [],
   "source": [
    "# your code here\n",
    "#the function np.random.randint takes the shape of the array as well as the range of int the random numbers can be selected from\n",
    "array_size=(10,3)\n",
    "df = pd.DataFrame(np.random.randint(0, 100, size=array_size),columns=['column1','column2', 'column3'])"
   ]
  },
  {
   "cell_type": "code",
   "execution_count": 43,
   "metadata": {
    "ExecuteTime": {
     "end_time": "2020-12-08T03:13:03.499111Z",
     "start_time": "2020-12-08T03:13:03.490035Z"
    }
   },
   "outputs": [
    {
     "data": {
      "text/html": [
       "<div>\n",
       "<style scoped>\n",
       "    .dataframe tbody tr th:only-of-type {\n",
       "        vertical-align: middle;\n",
       "    }\n",
       "\n",
       "    .dataframe tbody tr th {\n",
       "        vertical-align: top;\n",
       "    }\n",
       "\n",
       "    .dataframe thead th {\n",
       "        text-align: right;\n",
       "    }\n",
       "</style>\n",
       "<table border=\"1\" class=\"dataframe\">\n",
       "  <thead>\n",
       "    <tr style=\"text-align: right;\">\n",
       "      <th></th>\n",
       "      <th>column1</th>\n",
       "      <th>column2</th>\n",
       "      <th>column3</th>\n",
       "    </tr>\n",
       "  </thead>\n",
       "  <tbody>\n",
       "    <tr>\n",
       "      <th>0</th>\n",
       "      <td>87</td>\n",
       "      <td>78</td>\n",
       "      <td>77</td>\n",
       "    </tr>\n",
       "    <tr>\n",
       "      <th>1</th>\n",
       "      <td>92</td>\n",
       "      <td>91</td>\n",
       "      <td>75</td>\n",
       "    </tr>\n",
       "    <tr>\n",
       "      <th>2</th>\n",
       "      <td>51</td>\n",
       "      <td>4</td>\n",
       "      <td>92</td>\n",
       "    </tr>\n",
       "    <tr>\n",
       "      <th>3</th>\n",
       "      <td>17</td>\n",
       "      <td>86</td>\n",
       "      <td>24</td>\n",
       "    </tr>\n",
       "    <tr>\n",
       "      <th>4</th>\n",
       "      <td>49</td>\n",
       "      <td>55</td>\n",
       "      <td>70</td>\n",
       "    </tr>\n",
       "    <tr>\n",
       "      <th>5</th>\n",
       "      <td>95</td>\n",
       "      <td>13</td>\n",
       "      <td>50</td>\n",
       "    </tr>\n",
       "    <tr>\n",
       "      <th>6</th>\n",
       "      <td>26</td>\n",
       "      <td>15</td>\n",
       "      <td>34</td>\n",
       "    </tr>\n",
       "    <tr>\n",
       "      <th>7</th>\n",
       "      <td>11</td>\n",
       "      <td>42</td>\n",
       "      <td>34</td>\n",
       "    </tr>\n",
       "    <tr>\n",
       "      <th>8</th>\n",
       "      <td>34</td>\n",
       "      <td>51</td>\n",
       "      <td>87</td>\n",
       "    </tr>\n",
       "    <tr>\n",
       "      <th>9</th>\n",
       "      <td>46</td>\n",
       "      <td>23</td>\n",
       "      <td>42</td>\n",
       "    </tr>\n",
       "  </tbody>\n",
       "</table>\n",
       "</div>"
      ],
      "text/plain": [
       "   column1  column2  column3\n",
       "0       87       78       77\n",
       "1       92       91       75\n",
       "2       51        4       92\n",
       "3       17       86       24\n",
       "4       49       55       70\n",
       "5       95       13       50\n",
       "6       26       15       34\n",
       "7       11       42       34\n",
       "8       34       51       87\n",
       "9       46       23       42"
      ]
     },
     "execution_count": 43,
     "metadata": {},
     "output_type": "execute_result"
    }
   ],
   "source": [
    "df"
   ]
  },
  {
   "cell_type": "markdown",
   "metadata": {
    "colab_type": "text",
    "id": "t7SMOQNkOalA"
   },
   "source": [
    "#### 3 Create a random dataframe containing N columns and M rows with specific column names.\n",
    "\n",
    "For this task you'll have to name the columns as `['column1', 'column2', 'column3', ...,'columnN']`. You can use a list comprehension to do that."
   ]
  },
  {
   "cell_type": "code",
   "execution_count": 44,
   "metadata": {
    "ExecuteTime": {
     "end_time": "2020-12-08T03:13:10.837592Z",
     "start_time": "2020-12-08T03:13:10.819702Z"
    },
    "colab": {},
    "colab_type": "code",
    "id": "y6o68u5HOalB"
   },
   "outputs": [
    {
     "data": {
      "text/html": [
       "<div>\n",
       "<style scoped>\n",
       "    .dataframe tbody tr th:only-of-type {\n",
       "        vertical-align: middle;\n",
       "    }\n",
       "\n",
       "    .dataframe tbody tr th {\n",
       "        vertical-align: top;\n",
       "    }\n",
       "\n",
       "    .dataframe thead th {\n",
       "        text-align: right;\n",
       "    }\n",
       "</style>\n",
       "<table border=\"1\" class=\"dataframe\">\n",
       "  <thead>\n",
       "    <tr style=\"text-align: right;\">\n",
       "      <th></th>\n",
       "      <th>column1</th>\n",
       "      <th>column2</th>\n",
       "      <th>column3</th>\n",
       "      <th>column4</th>\n",
       "      <th>column5</th>\n",
       "      <th>column6</th>\n",
       "      <th>column7</th>\n",
       "      <th>column8</th>\n",
       "      <th>column9</th>\n",
       "      <th>column10</th>\n",
       "    </tr>\n",
       "  </thead>\n",
       "  <tbody>\n",
       "    <tr>\n",
       "      <th>0</th>\n",
       "      <td>69</td>\n",
       "      <td>93</td>\n",
       "      <td>94</td>\n",
       "      <td>94</td>\n",
       "      <td>55</td>\n",
       "      <td>82</td>\n",
       "      <td>74</td>\n",
       "      <td>44</td>\n",
       "      <td>37</td>\n",
       "      <td>41</td>\n",
       "    </tr>\n",
       "    <tr>\n",
       "      <th>1</th>\n",
       "      <td>66</td>\n",
       "      <td>59</td>\n",
       "      <td>20</td>\n",
       "      <td>69</td>\n",
       "      <td>9</td>\n",
       "      <td>84</td>\n",
       "      <td>42</td>\n",
       "      <td>78</td>\n",
       "      <td>99</td>\n",
       "      <td>5</td>\n",
       "    </tr>\n",
       "    <tr>\n",
       "      <th>2</th>\n",
       "      <td>12</td>\n",
       "      <td>76</td>\n",
       "      <td>36</td>\n",
       "      <td>39</td>\n",
       "      <td>62</td>\n",
       "      <td>55</td>\n",
       "      <td>43</td>\n",
       "      <td>80</td>\n",
       "      <td>90</td>\n",
       "      <td>24</td>\n",
       "    </tr>\n",
       "    <tr>\n",
       "      <th>3</th>\n",
       "      <td>63</td>\n",
       "      <td>42</td>\n",
       "      <td>0</td>\n",
       "      <td>67</td>\n",
       "      <td>42</td>\n",
       "      <td>18</td>\n",
       "      <td>78</td>\n",
       "      <td>19</td>\n",
       "      <td>45</td>\n",
       "      <td>96</td>\n",
       "    </tr>\n",
       "    <tr>\n",
       "      <th>4</th>\n",
       "      <td>17</td>\n",
       "      <td>80</td>\n",
       "      <td>24</td>\n",
       "      <td>66</td>\n",
       "      <td>41</td>\n",
       "      <td>78</td>\n",
       "      <td>79</td>\n",
       "      <td>80</td>\n",
       "      <td>60</td>\n",
       "      <td>80</td>\n",
       "    </tr>\n",
       "    <tr>\n",
       "      <th>5</th>\n",
       "      <td>96</td>\n",
       "      <td>71</td>\n",
       "      <td>10</td>\n",
       "      <td>22</td>\n",
       "      <td>20</td>\n",
       "      <td>43</td>\n",
       "      <td>20</td>\n",
       "      <td>70</td>\n",
       "      <td>92</td>\n",
       "      <td>30</td>\n",
       "    </tr>\n",
       "    <tr>\n",
       "      <th>6</th>\n",
       "      <td>55</td>\n",
       "      <td>74</td>\n",
       "      <td>10</td>\n",
       "      <td>38</td>\n",
       "      <td>62</td>\n",
       "      <td>82</td>\n",
       "      <td>12</td>\n",
       "      <td>95</td>\n",
       "      <td>32</td>\n",
       "      <td>61</td>\n",
       "    </tr>\n",
       "    <tr>\n",
       "      <th>7</th>\n",
       "      <td>16</td>\n",
       "      <td>10</td>\n",
       "      <td>36</td>\n",
       "      <td>59</td>\n",
       "      <td>0</td>\n",
       "      <td>82</td>\n",
       "      <td>44</td>\n",
       "      <td>90</td>\n",
       "      <td>25</td>\n",
       "      <td>67</td>\n",
       "    </tr>\n",
       "    <tr>\n",
       "      <th>8</th>\n",
       "      <td>90</td>\n",
       "      <td>79</td>\n",
       "      <td>17</td>\n",
       "      <td>60</td>\n",
       "      <td>52</td>\n",
       "      <td>73</td>\n",
       "      <td>21</td>\n",
       "      <td>55</td>\n",
       "      <td>36</td>\n",
       "      <td>7</td>\n",
       "    </tr>\n",
       "    <tr>\n",
       "      <th>9</th>\n",
       "      <td>93</td>\n",
       "      <td>38</td>\n",
       "      <td>35</td>\n",
       "      <td>45</td>\n",
       "      <td>26</td>\n",
       "      <td>58</td>\n",
       "      <td>80</td>\n",
       "      <td>83</td>\n",
       "      <td>85</td>\n",
       "      <td>77</td>\n",
       "    </tr>\n",
       "    <tr>\n",
       "      <th>10</th>\n",
       "      <td>74</td>\n",
       "      <td>88</td>\n",
       "      <td>70</td>\n",
       "      <td>9</td>\n",
       "      <td>21</td>\n",
       "      <td>49</td>\n",
       "      <td>83</td>\n",
       "      <td>25</td>\n",
       "      <td>12</td>\n",
       "      <td>4</td>\n",
       "    </tr>\n",
       "    <tr>\n",
       "      <th>11</th>\n",
       "      <td>38</td>\n",
       "      <td>93</td>\n",
       "      <td>55</td>\n",
       "      <td>19</td>\n",
       "      <td>71</td>\n",
       "      <td>78</td>\n",
       "      <td>26</td>\n",
       "      <td>21</td>\n",
       "      <td>70</td>\n",
       "      <td>76</td>\n",
       "    </tr>\n",
       "    <tr>\n",
       "      <th>12</th>\n",
       "      <td>90</td>\n",
       "      <td>27</td>\n",
       "      <td>15</td>\n",
       "      <td>72</td>\n",
       "      <td>9</td>\n",
       "      <td>79</td>\n",
       "      <td>64</td>\n",
       "      <td>94</td>\n",
       "      <td>81</td>\n",
       "      <td>82</td>\n",
       "    </tr>\n",
       "    <tr>\n",
       "      <th>13</th>\n",
       "      <td>87</td>\n",
       "      <td>73</td>\n",
       "      <td>18</td>\n",
       "      <td>56</td>\n",
       "      <td>81</td>\n",
       "      <td>15</td>\n",
       "      <td>53</td>\n",
       "      <td>8</td>\n",
       "      <td>44</td>\n",
       "      <td>40</td>\n",
       "    </tr>\n",
       "    <tr>\n",
       "      <th>14</th>\n",
       "      <td>81</td>\n",
       "      <td>84</td>\n",
       "      <td>23</td>\n",
       "      <td>99</td>\n",
       "      <td>0</td>\n",
       "      <td>58</td>\n",
       "      <td>77</td>\n",
       "      <td>67</td>\n",
       "      <td>36</td>\n",
       "      <td>46</td>\n",
       "    </tr>\n",
       "    <tr>\n",
       "      <th>15</th>\n",
       "      <td>28</td>\n",
       "      <td>70</td>\n",
       "      <td>2</td>\n",
       "      <td>61</td>\n",
       "      <td>90</td>\n",
       "      <td>13</td>\n",
       "      <td>47</td>\n",
       "      <td>97</td>\n",
       "      <td>98</td>\n",
       "      <td>98</td>\n",
       "    </tr>\n",
       "    <tr>\n",
       "      <th>16</th>\n",
       "      <td>11</td>\n",
       "      <td>59</td>\n",
       "      <td>34</td>\n",
       "      <td>85</td>\n",
       "      <td>31</td>\n",
       "      <td>30</td>\n",
       "      <td>78</td>\n",
       "      <td>67</td>\n",
       "      <td>10</td>\n",
       "      <td>86</td>\n",
       "    </tr>\n",
       "    <tr>\n",
       "      <th>17</th>\n",
       "      <td>6</td>\n",
       "      <td>29</td>\n",
       "      <td>68</td>\n",
       "      <td>42</td>\n",
       "      <td>51</td>\n",
       "      <td>92</td>\n",
       "      <td>34</td>\n",
       "      <td>17</td>\n",
       "      <td>66</td>\n",
       "      <td>9</td>\n",
       "    </tr>\n",
       "    <tr>\n",
       "      <th>18</th>\n",
       "      <td>82</td>\n",
       "      <td>13</td>\n",
       "      <td>83</td>\n",
       "      <td>88</td>\n",
       "      <td>61</td>\n",
       "      <td>60</td>\n",
       "      <td>8</td>\n",
       "      <td>77</td>\n",
       "      <td>5</td>\n",
       "      <td>65</td>\n",
       "    </tr>\n",
       "    <tr>\n",
       "      <th>19</th>\n",
       "      <td>23</td>\n",
       "      <td>93</td>\n",
       "      <td>44</td>\n",
       "      <td>75</td>\n",
       "      <td>22</td>\n",
       "      <td>0</td>\n",
       "      <td>44</td>\n",
       "      <td>95</td>\n",
       "      <td>75</td>\n",
       "      <td>30</td>\n",
       "    </tr>\n",
       "    <tr>\n",
       "      <th>20</th>\n",
       "      <td>68</td>\n",
       "      <td>91</td>\n",
       "      <td>39</td>\n",
       "      <td>54</td>\n",
       "      <td>11</td>\n",
       "      <td>27</td>\n",
       "      <td>20</td>\n",
       "      <td>43</td>\n",
       "      <td>59</td>\n",
       "      <td>93</td>\n",
       "    </tr>\n",
       "    <tr>\n",
       "      <th>21</th>\n",
       "      <td>18</td>\n",
       "      <td>44</td>\n",
       "      <td>81</td>\n",
       "      <td>46</td>\n",
       "      <td>76</td>\n",
       "      <td>92</td>\n",
       "      <td>98</td>\n",
       "      <td>69</td>\n",
       "      <td>18</td>\n",
       "      <td>0</td>\n",
       "    </tr>\n",
       "    <tr>\n",
       "      <th>22</th>\n",
       "      <td>54</td>\n",
       "      <td>83</td>\n",
       "      <td>82</td>\n",
       "      <td>6</td>\n",
       "      <td>68</td>\n",
       "      <td>99</td>\n",
       "      <td>30</td>\n",
       "      <td>16</td>\n",
       "      <td>56</td>\n",
       "      <td>44</td>\n",
       "    </tr>\n",
       "    <tr>\n",
       "      <th>23</th>\n",
       "      <td>45</td>\n",
       "      <td>70</td>\n",
       "      <td>40</td>\n",
       "      <td>20</td>\n",
       "      <td>44</td>\n",
       "      <td>54</td>\n",
       "      <td>76</td>\n",
       "      <td>85</td>\n",
       "      <td>49</td>\n",
       "      <td>45</td>\n",
       "    </tr>\n",
       "    <tr>\n",
       "      <th>24</th>\n",
       "      <td>97</td>\n",
       "      <td>86</td>\n",
       "      <td>96</td>\n",
       "      <td>87</td>\n",
       "      <td>13</td>\n",
       "      <td>82</td>\n",
       "      <td>25</td>\n",
       "      <td>40</td>\n",
       "      <td>40</td>\n",
       "      <td>82</td>\n",
       "    </tr>\n",
       "    <tr>\n",
       "      <th>25</th>\n",
       "      <td>84</td>\n",
       "      <td>82</td>\n",
       "      <td>51</td>\n",
       "      <td>42</td>\n",
       "      <td>61</td>\n",
       "      <td>61</td>\n",
       "      <td>77</td>\n",
       "      <td>3</td>\n",
       "      <td>83</td>\n",
       "      <td>29</td>\n",
       "    </tr>\n",
       "    <tr>\n",
       "      <th>26</th>\n",
       "      <td>9</td>\n",
       "      <td>96</td>\n",
       "      <td>14</td>\n",
       "      <td>22</td>\n",
       "      <td>37</td>\n",
       "      <td>26</td>\n",
       "      <td>56</td>\n",
       "      <td>15</td>\n",
       "      <td>27</td>\n",
       "      <td>34</td>\n",
       "    </tr>\n",
       "    <tr>\n",
       "      <th>27</th>\n",
       "      <td>81</td>\n",
       "      <td>60</td>\n",
       "      <td>25</td>\n",
       "      <td>5</td>\n",
       "      <td>28</td>\n",
       "      <td>52</td>\n",
       "      <td>51</td>\n",
       "      <td>11</td>\n",
       "      <td>95</td>\n",
       "      <td>2</td>\n",
       "    </tr>\n",
       "    <tr>\n",
       "      <th>28</th>\n",
       "      <td>0</td>\n",
       "      <td>60</td>\n",
       "      <td>64</td>\n",
       "      <td>22</td>\n",
       "      <td>45</td>\n",
       "      <td>12</td>\n",
       "      <td>98</td>\n",
       "      <td>12</td>\n",
       "      <td>51</td>\n",
       "      <td>84</td>\n",
       "    </tr>\n",
       "    <tr>\n",
       "      <th>29</th>\n",
       "      <td>88</td>\n",
       "      <td>23</td>\n",
       "      <td>91</td>\n",
       "      <td>92</td>\n",
       "      <td>29</td>\n",
       "      <td>70</td>\n",
       "      <td>5</td>\n",
       "      <td>2</td>\n",
       "      <td>76</td>\n",
       "      <td>64</td>\n",
       "    </tr>\n",
       "  </tbody>\n",
       "</table>\n",
       "</div>"
      ],
      "text/plain": [
       "    column1  column2  column3  column4  column5  column6  column7  column8  \\\n",
       "0        69       93       94       94       55       82       74       44   \n",
       "1        66       59       20       69        9       84       42       78   \n",
       "2        12       76       36       39       62       55       43       80   \n",
       "3        63       42        0       67       42       18       78       19   \n",
       "4        17       80       24       66       41       78       79       80   \n",
       "5        96       71       10       22       20       43       20       70   \n",
       "6        55       74       10       38       62       82       12       95   \n",
       "7        16       10       36       59        0       82       44       90   \n",
       "8        90       79       17       60       52       73       21       55   \n",
       "9        93       38       35       45       26       58       80       83   \n",
       "10       74       88       70        9       21       49       83       25   \n",
       "11       38       93       55       19       71       78       26       21   \n",
       "12       90       27       15       72        9       79       64       94   \n",
       "13       87       73       18       56       81       15       53        8   \n",
       "14       81       84       23       99        0       58       77       67   \n",
       "15       28       70        2       61       90       13       47       97   \n",
       "16       11       59       34       85       31       30       78       67   \n",
       "17        6       29       68       42       51       92       34       17   \n",
       "18       82       13       83       88       61       60        8       77   \n",
       "19       23       93       44       75       22        0       44       95   \n",
       "20       68       91       39       54       11       27       20       43   \n",
       "21       18       44       81       46       76       92       98       69   \n",
       "22       54       83       82        6       68       99       30       16   \n",
       "23       45       70       40       20       44       54       76       85   \n",
       "24       97       86       96       87       13       82       25       40   \n",
       "25       84       82       51       42       61       61       77        3   \n",
       "26        9       96       14       22       37       26       56       15   \n",
       "27       81       60       25        5       28       52       51       11   \n",
       "28        0       60       64       22       45       12       98       12   \n",
       "29       88       23       91       92       29       70        5        2   \n",
       "\n",
       "    column9  column10  \n",
       "0        37        41  \n",
       "1        99         5  \n",
       "2        90        24  \n",
       "3        45        96  \n",
       "4        60        80  \n",
       "5        92        30  \n",
       "6        32        61  \n",
       "7        25        67  \n",
       "8        36         7  \n",
       "9        85        77  \n",
       "10       12         4  \n",
       "11       70        76  \n",
       "12       81        82  \n",
       "13       44        40  \n",
       "14       36        46  \n",
       "15       98        98  \n",
       "16       10        86  \n",
       "17       66         9  \n",
       "18        5        65  \n",
       "19       75        30  \n",
       "20       59        93  \n",
       "21       18         0  \n",
       "22       56        44  \n",
       "23       49        45  \n",
       "24       40        82  \n",
       "25       83        29  \n",
       "26       27        34  \n",
       "27       95         2  \n",
       "28       51        84  \n",
       "29       76        64  "
      ]
     },
     "execution_count": 44,
     "metadata": {},
     "output_type": "execute_result"
    }
   ],
   "source": [
    "N = 10\n",
    "M = 30\n",
    "df = pd.DataFrame(np.random.randint(0, 100, size=(M,N)),columns=[\"column\"+str(i+1) for i in range(N)])\n",
    "df"
   ]
  },
  {
   "cell_type": "code",
   "execution_count": null,
   "metadata": {},
   "outputs": [],
   "source": []
  }
 ],
 "metadata": {
  "colab": {
   "collapsed_sections": [],
   "name": "main.ipynb",
   "provenance": []
  },
  "kernelspec": {
   "display_name": "Python 3",
   "language": "python",
   "name": "python3"
  },
  "language_info": {
   "codemirror_mode": {
    "name": "ipython",
    "version": 3
   },
   "file_extension": ".py",
   "mimetype": "text/x-python",
   "name": "python",
   "nbconvert_exporter": "python",
   "pygments_lexer": "ipython3",
   "version": "3.8.5"
  },
  "toc": {
   "base_numbering": 1,
   "nav_menu": {},
   "number_sections": true,
   "sideBar": true,
   "skip_h1_title": false,
   "title_cell": "Table of Contents",
   "title_sidebar": "Contents",
   "toc_cell": false,
   "toc_position": {},
   "toc_section_display": true,
   "toc_window_display": false
  },
  "varInspector": {
   "cols": {
    "lenName": 16,
    "lenType": 16,
    "lenVar": 40
   },
   "kernels_config": {
    "python": {
     "delete_cmd_postfix": "",
     "delete_cmd_prefix": "del ",
     "library": "var_list.py",
     "varRefreshCmd": "print(var_dic_list())"
    },
    "r": {
     "delete_cmd_postfix": ") ",
     "delete_cmd_prefix": "rm(",
     "library": "var_list.r",
     "varRefreshCmd": "cat(var_dic_list()) "
    }
   },
   "types_to_exclude": [
    "module",
    "function",
    "builtin_function_or_method",
    "instance",
    "_Feature"
   ],
   "window_display": false
  }
 },
 "nbformat": 4,
 "nbformat_minor": 1
}
