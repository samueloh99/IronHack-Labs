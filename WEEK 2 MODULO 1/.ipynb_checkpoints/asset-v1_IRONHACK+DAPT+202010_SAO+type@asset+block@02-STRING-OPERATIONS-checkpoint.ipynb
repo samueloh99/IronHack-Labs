{
 "cells": [
  {
   "cell_type": "markdown",
   "metadata": {
    "colab_type": "text",
    "id": "Smya68K_kUJz"
   },
   "source": [
    "# Before your start:\n",
    "- Read the README.md file\n",
    "- Comment as much as you can and use the resources in the README.md file\n",
    "- Happy learning!"
   ]
  },
  {
   "cell_type": "code",
   "execution_count": 1,
   "metadata": {
    "colab": {},
    "colab_type": "code",
    "id": "UmpfHHYjkUJ0"
   },
   "outputs": [],
   "source": [
    "import re"
   ]
  },
  {
   "cell_type": "markdown",
   "metadata": {
    "colab_type": "text",
    "id": "yLuALiyCkUJ3"
   },
   "source": [
    "# Challenge 1 - Combining Strings\n",
    "\n",
    "Combining strings is an important skill to acquire. There are multiple ways of combining strings in Python, as well as combining strings with variables. We will explore this in the first challenge. In the cell below, combine the strings in the list and add spaces between the strings (do not add a space after the last string). Insert a period after the last string."
   ]
  },
  {
   "cell_type": "code",
   "execution_count": 2,
   "metadata": {
    "colab": {},
    "colab_type": "code",
    "id": "n0LxSL1tkUJ4"
   },
   "outputs": [
    {
     "data": {
      "text/plain": [
       "'Durante un tiempo no estuvo segura de si su marido era su marido.'"
      ]
     },
     "execution_count": 2,
     "metadata": {},
     "output_type": "execute_result"
    }
   ],
   "source": [
    "str_list = ['Durante', 'un', 'tiempo', 'no', 'estuvo', 'segura', 'de', 'si', 'su', 'marido', 'era', 'su', 'marido']\n",
    "\n",
    "' '.join(str_list) + '.'"
   ]
  },
  {
   "cell_type": "markdown",
   "metadata": {
    "colab_type": "text",
    "id": "jjnjuDhbkUJ6"
   },
   "source": [
    "In the cell below, use the list of strings to create a grocery list. Start the list with the string `Grocery list: ` and include a comma and a space between each item except for the last one. Include a period at the end. Only include foods in the list that start with the letter 'b' and ensure all foods are lower case."
   ]
  },
  {
   "cell_type": "code",
   "execution_count": 3,
   "metadata": {
    "colab": {},
    "colab_type": "code",
    "id": "D9EWG-9YkUJ6"
   },
   "outputs": [],
   "source": [
    "food_list = ['Bananas', 'Chocolate', 'bread', 'diapers', 'Ice Cream', 'Brownie Mix', 'broccoli']\n",
    "# Your code here:\n",
    "\n",
    "food_list_b = []\n",
    "for food in food_list:\n",
    "    food = food.lower()\n",
    "    if food.startswith('b'):\n",
    "        food_list_b.append(food)\n",
    "\n",
    "\n",
    "grocery = 'Grocery list: ' + ', '.join(food_list_b)+ '.'"
   ]
  },
  {
   "cell_type": "code",
   "execution_count": 4,
   "metadata": {},
   "outputs": [
    {
     "data": {
      "text/plain": [
       "'Grocery list: bananas, bread, brownie mix, broccoli.'"
      ]
     },
     "execution_count": 4,
     "metadata": {},
     "output_type": "execute_result"
    }
   ],
   "source": [
    "grocery"
   ]
  },
  {
   "cell_type": "markdown",
   "metadata": {
    "colab_type": "text",
    "id": "r-7puDW_kUJ8"
   },
   "source": [
    "In the cell below, write a function that computes the area of a circle using its radius. Compute the area of the circle and insert the radius and the area between the two strings. Make sure to include spaces between the variable and the strings. \n",
    "\n",
    "Note: You can use the techniques we have learned so far or use f-strings. F-strings allow us to embed code inside strings. You can read more about f-strings [here](https://www.python.org/dev/peps/pep-0498/)."
   ]
  },
  {
   "cell_type": "code",
   "execution_count": 6,
   "metadata": {
    "colab": {},
    "colab_type": "code",
    "id": "dEpQOL59kUJ9"
   },
   "outputs": [
    {
     "name": "stdout",
     "output_type": "stream",
     "text": [
      "The area of the circle with radius: 5 is: 78.53981633974483\n"
     ]
    }
   ],
   "source": [
    "import math\n",
    "\n",
    "string1 = \"The area of the circle with radius:\"\n",
    "string2  = \"is:\"\n",
    "radius = 5\n",
    "\n",
    "def area(x, pi = math.pi):\n",
    "    \"\"\"\n",
    "    This function takes a radius and returns the area of a circle. \n",
    "    \n",
    "    Input: Float\n",
    "    Output: Float\n",
    "    \n",
    "    Sample input: 5.0\n",
    "    Sample Output: 78.53981633\n",
    "    \"\"\"\n",
    "    \n",
    "    area = pi*(x**2)\n",
    "    \n",
    "    return area\n",
    "    \n",
    "# Your output string here:\n",
    "print(f'{string1} {radius} {string2} {area(radius)}')"
   ]
  },
  {
   "cell_type": "markdown",
   "metadata": {
    "colab_type": "text",
    "id": "5wUx1N0gkUJ_"
   },
   "source": [
    "# Challenge 2 - Splitting Strings\n",
    "\n",
    "We have first looked at combining strings into one long string. There are times where we need to do the opposite and split the string into smaller components for further analysis. \n",
    "\n",
    "In the cell below, split the string into a list of strings using the space delimiter. Count the frequency of each word in the string in a dictionary. Strip the periods, line breaks and commas from the text. Make sure to remove empty strings from your dictionary."
   ]
  },
  {
   "cell_type": "code",
   "execution_count": 7,
   "metadata": {
    "colab": {},
    "colab_type": "code",
    "id": "5kCqHBEUkUKA"
   },
   "outputs": [],
   "source": [
    "poem = \"\"\"Some say the world will end in fire,\n",
    "Some say in ice.\n",
    "From what I’ve tasted of desire\n",
    "I hold with those who favor fire.\n",
    "But if it had to perish twice,\n",
    "I think I know enough of hate\n",
    "To say that for destruction ice\n",
    "Is also great\n",
    "And would suffice.\"\"\""
   ]
  },
  {
   "cell_type": "code",
   "execution_count": 9,
   "metadata": {},
   "outputs": [],
   "source": [
    "poem_list = poem.lower().replace(',', '').replace('.', '').replace('\\n', '').split()"
   ]
  },
  {
   "cell_type": "code",
   "execution_count": 10,
   "metadata": {},
   "outputs": [
    {
     "name": "stdout",
     "output_type": "stream",
     "text": [
      "['some', 'say', 'the', 'world', 'will', 'end', 'in', 'firesome', 'say', 'in', 'icefrom', 'what', 'i’ve', 'tasted', 'of', 'desirei', 'hold', 'with', 'those', 'who', 'favor', 'firebut', 'if', 'it', 'had', 'to', 'perish', 'twicei', 'think', 'i', 'know', 'enough', 'of', 'hateto', 'say', 'that', 'for', 'destruction', 'iceis', 'also', 'greatand', 'would', 'suffice']\n"
     ]
    }
   ],
   "source": [
    "print(poem_list)"
   ]
  },
  {
   "cell_type": "code",
   "execution_count": 14,
   "metadata": {},
   "outputs": [
    {
     "name": "stdout",
     "output_type": "stream",
     "text": [
      "{'some': 1, 'say': 3, 'the': 1, 'world': 1, 'will': 1, 'end': 1, 'in': 2, 'firesome': 1, 'icefrom': 1, 'what': 1, 'i’ve': 1, 'tasted': 1, 'of': 2, 'desirei': 1, 'hold': 1, 'with': 1, 'those': 1, 'who': 1, 'favor': 1, 'firebut': 1, 'if': 1, 'it': 1, 'had': 1, 'to': 1, 'perish': 1, 'twicei': 1, 'think': 1, 'i': 1, 'know': 1, 'enough': 1, 'hateto': 1, 'that': 1, 'for': 1, 'destruction': 1, 'iceis': 1, 'also': 1, 'greatand': 1, 'would': 1, 'suffice': 1}\n"
     ]
    }
   ],
   "source": [
    "poem_dict = {}\n",
    "for word in poem_list:\n",
    "    poem_dict[word] = poem_list.count(word)\n",
    "print(poem_dict)"
   ]
  },
  {
   "cell_type": "markdown",
   "metadata": {
    "colab_type": "text",
    "id": "84q3YtTEkUKC"
   },
   "source": [
    "In the cell below, find all the words that appear in the text and do not appear in the blacklist. You must parse the string but can choose any data structure you wish for the words that do not appear in the blacklist. Remove all non letter characters and convert all words to lower case."
   ]
  },
  {
   "cell_type": "code",
   "execution_count": 16,
   "metadata": {
    "colab": {},
    "colab_type": "code",
    "id": "Xx0iP3skkUKE"
   },
   "outputs": [],
   "source": [
    "blacklist = ['and', 'as', 'an', 'a', 'the', 'in', 'it']\n",
    "\n",
    "poem = \"\"\"I was angry with my friend; \n",
    "I told my wrath, my wrath did end.\n",
    "I was angry with my foe: \n",
    "I told it not, my wrath did grow. \n",
    "\n",
    "And I waterd it in fears,\n",
    "Night & morning with my tears: \n",
    "And I sunned it with smiles,\n",
    "And with soft deceitful wiles. \n",
    "\n",
    "And it grew both day and night. \n",
    "Till it bore an apple bright. \n",
    "And my foe beheld it shine,\n",
    "And he knew that it was mine. \n",
    "\n",
    "And into my garden stole, \n",
    "When the night had veild the pole; \n",
    "In the morning glad I see; \n",
    "My foe outstretched beneath the tree.\"\"\"\n"
   ]
  },
  {
   "cell_type": "code",
   "execution_count": 17,
   "metadata": {},
   "outputs": [],
   "source": [
    "poem_set = poem.replace(\".\", \" \").replace(\",\", \" \").replace(\"\\n\", \" \").replace(\":\", \" \").replace(\";\", \" \").replace(\"&\", \" \").split()"
   ]
  },
  {
   "cell_type": "code",
   "execution_count": 19,
   "metadata": {},
   "outputs": [
    {
     "name": "stdout",
     "output_type": "stream",
     "text": [
      "['I', 'was', 'angry', 'with', 'my', 'friend', 'I', 'told', 'my', 'wrath', 'my', 'wrath', 'did', 'end', 'I', 'was', 'angry', 'with', 'my', 'foe', 'I', 'told', 'it', 'not', 'my', 'wrath', 'did', 'grow', 'And', 'I', 'waterd', 'it', 'in', 'fears', 'Night', 'morning', 'with', 'my', 'tears', 'And', 'I', 'sunned', 'it', 'with', 'smiles', 'And', 'with', 'soft', 'deceitful', 'wiles', 'And', 'it', 'grew', 'both', 'day', 'and', 'night', 'Till', 'it', 'bore', 'an', 'apple', 'bright', 'And', 'my', 'foe', 'beheld', 'it', 'shine', 'And', 'he', 'knew', 'that', 'it', 'was', 'mine', 'And', 'into', 'my', 'garden', 'stole', 'When', 'the', 'night', 'had', 'veild', 'the', 'pole', 'In', 'the', 'morning', 'glad', 'I', 'see', 'My', 'foe', 'outstretched', 'beneath', 'the', 'tree']\n"
     ]
    }
   ],
   "source": [
    "print(poem_set)"
   ]
  },
  {
   "cell_type": "code",
   "execution_count": 20,
   "metadata": {},
   "outputs": [],
   "source": [
    "poem_dict_2 = {}\n",
    "for word in poem_set:\n",
    "    if word in blacklist:\n",
    "        pass\n",
    "    else:\n",
    "        poem_dict_2[word] = poem_set.count(word)"
   ]
  },
  {
   "cell_type": "code",
   "execution_count": 21,
   "metadata": {},
   "outputs": [
    {
     "name": "stdout",
     "output_type": "stream",
     "text": [
      "{'I': 7, 'was': 3, 'angry': 2, 'with': 5, 'my': 8, 'friend': 1, 'told': 2, 'wrath': 3, 'did': 2, 'end': 1, 'foe': 3, 'not': 1, 'grow': 1, 'And': 7, 'waterd': 1, 'fears': 1, 'Night': 1, 'morning': 2, 'tears': 1, 'sunned': 1, 'smiles': 1, 'soft': 1, 'deceitful': 1, 'wiles': 1, 'grew': 1, 'both': 1, 'day': 1, 'night': 2, 'Till': 1, 'bore': 1, 'apple': 1, 'bright': 1, 'beheld': 1, 'shine': 1, 'he': 1, 'knew': 1, 'that': 1, 'mine': 1, 'into': 1, 'garden': 1, 'stole': 1, 'When': 1, 'had': 1, 'veild': 1, 'pole': 1, 'In': 1, 'glad': 1, 'see': 1, 'My': 1, 'outstretched': 1, 'beneath': 1, 'tree': 1}\n"
     ]
    }
   ],
   "source": [
    "print(poem_dict_2)"
   ]
  },
  {
   "cell_type": "markdown",
   "metadata": {
    "colab_type": "text",
    "id": "LKji8o7ayAba"
   },
   "source": [
    "# Regex\n",
    "\n",
    "Obtain a list containing all phone numbers in the text below:\n",
    "\n",
    "Note: there should be 5 of them.\n"
   ]
  },
  {
   "cell_type": "code",
   "execution_count": 25,
   "metadata": {
    "colab": {},
    "colab_type": "code",
    "id": "wM4v-225yBNP"
   },
   "outputs": [],
   "source": [
    "text = \"\"\"\n",
    "Henry's phone number is 9789-0984\n",
    "Darlene's phone number is 4222-0901\n",
    "Andrew's phone number is 4312-5701\n",
    "James' phone number is 9413 1383\n",
    "Erica's phone number is 8993-1031\n",
    "\"\"\""
   ]
  },
  {
   "cell_type": "code",
   "execution_count": 26,
   "metadata": {},
   "outputs": [
    {
     "data": {
      "text/plain": [
       "['9789-0984', '4222-0901', '4312-5701', '9413 1383', '8993-1031']"
      ]
     },
     "execution_count": 26,
     "metadata": {},
     "output_type": "execute_result"
    }
   ],
   "source": [
    "#Method 1\n",
    "re.findall('[0-9]{4}[-]? ?[0-9]{4}', text)"
   ]
  },
  {
   "cell_type": "code",
   "execution_count": 23,
   "metadata": {},
   "outputs": [
    {
     "data": {
      "text/plain": [
       "['9789-0984', '4222-0901', '4312-5701', '9413 1383', '8993-1031']"
      ]
     },
     "execution_count": 23,
     "metadata": {},
     "output_type": "execute_result"
    }
   ],
   "source": [
    "#Method 2\n",
    "re.findall('\\d{4}[-\\s]?\\d{4}', text)"
   ]
  },
  {
   "cell_type": "markdown",
   "metadata": {
    "colab_type": "text",
    "id": "N7UZNc5lxSzZ"
   },
   "source": [
    "\n",
    "In the cell below, filter the list provided and return all elements of the list containing a number. To filter the list, use the re.search function. Check if the function does not return None. You can read more about the re.search function here."
   ]
  },
  {
   "cell_type": "code",
   "execution_count": 27,
   "metadata": {},
   "outputs": [],
   "source": [
    "data = ['123abc', 'abc123', 'JohnSmith1', 'ABBY4', 'JANE']"
   ]
  },
  {
   "cell_type": "code",
   "execution_count": 31,
   "metadata": {},
   "outputs": [
    {
     "name": "stdout",
     "output_type": "stream",
     "text": [
      "123abc\n",
      "abc123\n",
      "JohnSmith1\n",
      "ABBY4\n"
     ]
    }
   ],
   "source": [
    "#Method 1\n",
    "for word in data:\n",
    "    if re.search(\"\\d\", word):\n",
    "        print(word)"
   ]
  },
  {
   "cell_type": "code",
   "execution_count": 32,
   "metadata": {},
   "outputs": [
    {
     "data": {
      "text/plain": [
       "['123abc', 'abc123', 'JohnSmith1', 'ABBY4']"
      ]
     },
     "execution_count": 32,
     "metadata": {},
     "output_type": "execute_result"
    }
   ],
   "source": [
    "#Method 2\n",
    "elemnts = ' '.join(data)\n",
    "re.findall('\\S*\\d+\\S*',elemnts)"
   ]
  },
  {
   "cell_type": "markdown",
   "metadata": {
    "colab_type": "text",
    "id": "A2T86JzMwoLT"
   },
   "source": [
    "# Bonus Challenge - Regular Expressions \n",
    "\n",
    "In the cell below, filter the list provided to keep only strings containing at least one digit and at least one lower case letter. As in the previous question, use the `re.search` function and check that the result is not `None`.\n",
    "\n",
    "To read more about regular expressions, check out [this link](https://developers.google.com/edu/python/regular-expressions)."
   ]
  },
  {
   "cell_type": "code",
   "execution_count": 33,
   "metadata": {},
   "outputs": [],
   "source": [
    "data = ['123abc', 'abc123', 'JohnSmith1', 'ABBY4', 'JANE']"
   ]
  },
  {
   "cell_type": "code",
   "execution_count": 34,
   "metadata": {},
   "outputs": [
    {
     "name": "stdout",
     "output_type": "stream",
     "text": [
      "['123abc', 'abc123', 'JohnSmith1']\n"
     ]
    }
   ],
   "source": [
    "# Method 1\n",
    "print([word for word in data \n",
    "       if re.search(\"\\d\", word) \n",
    "       and re.search(\"[a-z]\", word)])"
   ]
  },
  {
   "cell_type": "code",
   "execution_count": 36,
   "metadata": {},
   "outputs": [
    {
     "data": {
      "text/plain": [
       "['123abc', 'abc123', 'JohnSmith1']"
      ]
     },
     "execution_count": 36,
     "metadata": {},
     "output_type": "execute_result"
    }
   ],
   "source": [
    "# Method 2\n",
    "list2 = []\n",
    "for item in data:\n",
    "    if re.findall('(?=.*\\d)(?=.*[a-z]).*', item): \n",
    "        list2.append(item)\n",
    "        \n",
    "list2"
   ]
  },
  {
   "cell_type": "markdown",
   "metadata": {
    "colab_type": "text",
    "id": "RTzGOO_Hxj5C"
   },
   "source": [
    "# Bonus for Nerds\n",
    "Given a list of reviews, a list of keywords and an integer k. Find the most popular k keywords in order of most to least frequently mentioned.\n",
    "\n",
    "The comparison of strings is case-insensitive. Multiple occurances of a keyword in a review should be considred as a single mention.\n",
    "\n",
    "Example Input:"
   ]
  },
  {
   "cell_type": "markdown",
   "metadata": {
    "colab_type": "text",
    "id": "Q_gsUz83xpGj"
   },
   "source": [
    "```python\n",
    "k = 2\n",
    "keywords = [\"anacell\", \"cetracular\", \"betacellular\"]\n",
    "reviews = [\n",
    "  \"Anacell provides the best services in the city whereas betacellular is the best of the world\",\n",
    "  \"cetracular has awesome services, cetracular is good, cetracular is awesome!\",\n",
    "  \"Best services provided by anacell, everyone should use anacell\",\n",
    "  \"Wow, betacellular services are good.\",\n",
    "]\n",
    "\n",
    "Expected Output:\n",
    "\n",
    "[\"anacell\", \"betacellular\"]\n",
    "\n",
    "# Explanation:\n",
    "# \"anacell\" and \"betacellular\" are occuring in 2 different reviews and \"cetracular\" is only occuring in 1 review, despite having so many repetitions.\n",
    "# The order doesnt matter for now\n",
    "\n",
    "```"
   ]
  },
  {
   "cell_type": "code",
   "execution_count": 37,
   "metadata": {},
   "outputs": [],
   "source": [
    "k = 2\n",
    "keywords = [\"anacell\", \"cetracular\", \"betacellular\"]\n",
    "reviews = [\n",
    "  \"Anacell provides the best services in the city whereas betacellular is the best of the world\",\n",
    "  \"cetracular has awesome services, cetracular is good, cetracular is awesome!\",\n",
    "  \"Best services provided by anacell, everyone should use anacell\",\n",
    "  \"Wow, betacellular services are good.\",\n",
    "]"
   ]
  },
  {
   "cell_type": "code",
   "execution_count": 38,
   "metadata": {
    "colab": {},
    "colab_type": "code",
    "id": "wn2ai6_6xl0P"
   },
   "outputs": [
    {
     "data": {
      "text/plain": [
       "['anacell', 'betacellular']"
      ]
     },
     "execution_count": 38,
     "metadata": {},
     "output_type": "execute_result"
    }
   ],
   "source": [
    "results = {keyword: 0 for keyword in keywords}\n",
    "\n",
    "for keyword in keywords:\n",
    "    for review in reviews:\n",
    "        if keyword in review.lower():\n",
    "            results[keyword] += 1\n",
    "            \n",
    "final = [item[0] for item in results.items() if item[1] == 2]\n",
    "final"
   ]
  },
  {
   "cell_type": "code",
   "execution_count": null,
   "metadata": {},
   "outputs": [],
   "source": []
  }
 ],
 "metadata": {
  "colab": {
   "collapsed_sections": [],
   "name": "main.ipynb",
   "provenance": []
  },
  "kernelspec": {
   "display_name": "Python 3",
   "language": "python",
   "name": "python3"
  },
  "language_info": {
   "codemirror_mode": {
    "name": "ipython",
    "version": 3
   },
   "file_extension": ".py",
   "mimetype": "text/x-python",
   "name": "python",
   "nbconvert_exporter": "python",
   "pygments_lexer": "ipython3",
   "version": "3.8.5"
  },
  "toc": {
   "base_numbering": 1,
   "nav_menu": {},
   "number_sections": true,
   "sideBar": true,
   "skip_h1_title": false,
   "title_cell": "Table of Contents",
   "title_sidebar": "Contents",
   "toc_cell": false,
   "toc_position": {},
   "toc_section_display": true,
   "toc_window_display": false
  },
  "varInspector": {
   "cols": {
    "lenName": 16,
    "lenType": 16,
    "lenVar": 40
   },
   "kernels_config": {
    "python": {
     "delete_cmd_postfix": "",
     "delete_cmd_prefix": "del ",
     "library": "var_list.py",
     "varRefreshCmd": "print(var_dic_list())"
    },
    "r": {
     "delete_cmd_postfix": ") ",
     "delete_cmd_prefix": "rm(",
     "library": "var_list.r",
     "varRefreshCmd": "cat(var_dic_list()) "
    }
   },
   "types_to_exclude": [
    "module",
    "function",
    "builtin_function_or_method",
    "instance",
    "_Feature"
   ],
   "window_display": false
  }
 },
 "nbformat": 4,
 "nbformat_minor": 1
}
